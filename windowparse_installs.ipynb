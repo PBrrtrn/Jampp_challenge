{
 "cells": [
  {
   "cell_type": "code",
   "execution_count": 1,
   "metadata": {},
   "outputs": [
    {
     "data": {
      "text/html": [
       "<div>\n",
       "<style scoped>\n",
       "    .dataframe tbody tr th:only-of-type {\n",
       "        vertical-align: middle;\n",
       "    }\n",
       "\n",
       "    .dataframe tbody tr th {\n",
       "        vertical-align: top;\n",
       "    }\n",
       "\n",
       "    .dataframe thead th {\n",
       "        text-align: right;\n",
       "    }\n",
       "</style>\n",
       "<table border=\"1\" class=\"dataframe\">\n",
       "  <thead>\n",
       "    <tr style=\"text-align: right;\">\n",
       "      <th></th>\n",
       "      <th>created</th>\n",
       "      <th>ref_hash</th>\n",
       "    </tr>\n",
       "  </thead>\n",
       "  <tbody>\n",
       "    <tr>\n",
       "      <th>0</th>\n",
       "      <td>2019-04-24 06:23:29.495</td>\n",
       "      <td>4716708407362582887</td>\n",
       "    </tr>\n",
       "    <tr>\n",
       "      <th>1</th>\n",
       "      <td>2019-04-24 02:06:01.032</td>\n",
       "      <td>7143568733100935872</td>\n",
       "    </tr>\n",
       "    <tr>\n",
       "      <th>2</th>\n",
       "      <td>2019-04-20 10:15:36.274</td>\n",
       "      <td>5230323462636548010</td>\n",
       "    </tr>\n",
       "    <tr>\n",
       "      <th>3</th>\n",
       "      <td>2019-04-20 21:56:47.151</td>\n",
       "      <td>5097163995161606833</td>\n",
       "    </tr>\n",
       "    <tr>\n",
       "      <th>4</th>\n",
       "      <td>2019-04-20 22:40:41.239</td>\n",
       "      <td>6328027616411983332</td>\n",
       "    </tr>\n",
       "  </tbody>\n",
       "</table>\n",
       "</div>"
      ],
      "text/plain": [
       "                  created             ref_hash\n",
       "0 2019-04-24 06:23:29.495  4716708407362582887\n",
       "1 2019-04-24 02:06:01.032  7143568733100935872\n",
       "2 2019-04-20 10:15:36.274  5230323462636548010\n",
       "3 2019-04-20 21:56:47.151  5097163995161606833\n",
       "4 2019-04-20 22:40:41.239  6328027616411983332"
      ]
     },
     "execution_count": 1,
     "metadata": {},
     "output_type": "execute_result"
    }
   ],
   "source": [
    "import pandas as pd\n",
    "from datetime import timedelta\n",
    "from window_generator import generate_windows_pd as wg\n",
    "\n",
    "cols = ['created','ref_hash']\n",
    "installs_csv = pd.read_csv('./data/installs.csv', usecols = cols)\n",
    "\n",
    "installs_csv['created'] = pd.to_datetime(installs_csv['created'])\n",
    "installs_csv.head()"
   ]
  },
  {
   "cell_type": "code",
   "execution_count": 2,
   "metadata": {},
   "outputs": [
    {
     "name": "stderr",
     "output_type": "stream",
     "text": [
      "/home/fedoremelianenko/FIUBA/Organizacion de datos/TPs/TP2/window_generator.py:18: FutureWarning: Comparing Series of datetimes with 'datetime.date'.  Currently, the\n",
      "'datetime.date' is coerced to a datetime. In the future pandas will\n",
      "not coerce, and a TypeError will be raised. To retain the current\n",
      "behavior, convert the 'datetime.date' to a datetime with\n",
      "'pd.Timestamp'.\n",
      "  window1 = window1.loc[df[str_timestamp] > INITIAL_DATE]\n"
     ]
    }
   ],
   "source": [
    "window1, window2, window3, window4, window5, window6, window7 = wg(installs_csv, 'created' )"
   ]
  },
  {
   "cell_type": "code",
   "execution_count": 3,
   "metadata": {},
   "outputs": [
    {
     "data": {
      "text/html": [
       "<div>\n",
       "<style scoped>\n",
       "    .dataframe tbody tr th:only-of-type {\n",
       "        vertical-align: middle;\n",
       "    }\n",
       "\n",
       "    .dataframe tbody tr th {\n",
       "        vertical-align: top;\n",
       "    }\n",
       "\n",
       "    .dataframe thead th {\n",
       "        text-align: right;\n",
       "    }\n",
       "</style>\n",
       "<table border=\"1\" class=\"dataframe\">\n",
       "  <thead>\n",
       "    <tr style=\"text-align: right;\">\n",
       "      <th></th>\n",
       "      <th>ref_hash</th>\n",
       "      <th>t_first</th>\n",
       "    </tr>\n",
       "  </thead>\n",
       "  <tbody>\n",
       "    <tr>\n",
       "      <th>0</th>\n",
       "      <td>41863526108385_st</td>\n",
       "      <td>76310.326</td>\n",
       "    </tr>\n",
       "    <tr>\n",
       "      <th>1</th>\n",
       "      <td>135153013040192_st</td>\n",
       "      <td>192980.258</td>\n",
       "    </tr>\n",
       "    <tr>\n",
       "      <th>2</th>\n",
       "      <td>186034136943920_st</td>\n",
       "      <td>60042.839</td>\n",
       "    </tr>\n",
       "    <tr>\n",
       "      <th>3</th>\n",
       "      <td>365882020742330_st</td>\n",
       "      <td>96156.508</td>\n",
       "    </tr>\n",
       "    <tr>\n",
       "      <th>4</th>\n",
       "      <td>519199987760489_st</td>\n",
       "      <td>92860.475</td>\n",
       "    </tr>\n",
       "  </tbody>\n",
       "</table>\n",
       "</div>"
      ],
      "text/plain": [
       "             ref_hash     t_first\n",
       "0   41863526108385_st   76310.326\n",
       "1  135153013040192_st  192980.258\n",
       "2  186034136943920_st   60042.839\n",
       "3  365882020742330_st   96156.508\n",
       "4  519199987760489_st   92860.475"
      ]
     },
     "execution_count": 3,
     "metadata": {},
     "output_type": "execute_result"
    }
   ],
   "source": [
    "window1['initial_date'] = pd.to_datetime(window1['created'].min().date() )\n",
    "window1['t_first'] = window1['created'] - window1['initial_date']\n",
    "window1 = window1.groupby('ref_hash').agg({'t_first':'min'})\n",
    "window1['t_first'] = window1['t_first'].apply(lambda x: x.total_seconds())\n",
    "window1.reset_index(inplace=True)\n",
    "window1['ref_hash'] = window1['ref_hash'].apply(lambda x: str(x)+'_st')\n",
    "\n",
    "window2['initial_date'] = pd.to_datetime(window2['created'].min().date() )\n",
    "window2['t_first'] = window2['created'] - window2['initial_date']\n",
    "window2 = window2.groupby('ref_hash').agg({'t_first':'min'})\n",
    "window2['t_first'] = window2['t_first'].apply(lambda x: x.total_seconds())\n",
    "window2.reset_index(inplace=True)\n",
    "window2['ref_hash'] = window2['ref_hash'].apply(lambda x: str(x)+'_st')\n",
    "\n",
    "window3['initial_date'] = pd.to_datetime(window3['created'].min().date() )\n",
    "window3['t_first'] = window3['created'] - window3['initial_date']\n",
    "window3 = window3.groupby('ref_hash').agg({'t_first':'min'})\n",
    "window3['t_first'] = window3['t_first'].apply(lambda x: x.total_seconds())\n",
    "window3.reset_index(inplace=True)\n",
    "window3['ref_hash'] = window3['ref_hash'].apply(lambda x: str(x)+'_st')\n",
    "\n",
    "window4['initial_date'] = pd.to_datetime(window4['created'].min().date() )\n",
    "window4['t_first'] = window4['created'] - window4['initial_date']\n",
    "window4 = window4.groupby('ref_hash').agg({'t_first':'min'})\n",
    "window4['t_first'] = window4['t_first'].apply(lambda x: x.total_seconds())\n",
    "window4.reset_index(inplace=True)\n",
    "window4['ref_hash'] = window4['ref_hash'].apply(lambda x: str(x)+'_st')\n",
    "\n",
    "window5['initial_date'] = pd.to_datetime(window5['created'].min().date() )\n",
    "window5['t_first'] = window5['created'] - window5['initial_date']\n",
    "window5 = window5.groupby('ref_hash').agg({'t_first':'min'})\n",
    "window5['t_first'] = window5['t_first'].apply(lambda x: x.total_seconds())\n",
    "window5.reset_index(inplace=True)\n",
    "window5['ref_hash'] = window5['ref_hash'].apply(lambda x: str(x)+'_st')\n",
    "\n",
    "window6['initial_date'] = pd.to_datetime(window6['created'].min().date() )\n",
    "window6['t_first'] = window6['created'] - window6['initial_date']\n",
    "window6 = window6.groupby('ref_hash').agg({'t_first':'min'})\n",
    "window6['t_first'] = window6['t_first'].apply(lambda x: x.total_seconds())\n",
    "window6.reset_index(inplace=True)\n",
    "window6['ref_hash'] = window6['ref_hash'].apply(lambda x: str(x)+'_st')\n",
    "\n",
    "window7['initial_date'] = pd.to_datetime(window7['created'].min().date() )\n",
    "window7['t_first'] = window7['created'] - window7['initial_date']\n",
    "window7 = window7.groupby('ref_hash').agg({'t_first':'min'})\n",
    "window7['t_first'] = window7['t_first'].apply(lambda x: x.total_seconds())\n",
    "window7.reset_index(inplace=True)\n",
    "window7['ref_hash'] = window7['ref_hash'].apply(lambda x: str(x)+'_st')\n",
    "\n",
    "window1.head()"
   ]
  },
  {
   "cell_type": "code",
   "execution_count": 4,
   "metadata": {},
   "outputs": [],
   "source": [
    "window1.to_csv('./data/installs/iv1.csv')\n",
    "window2.to_csv('./data/installs/iv2.csv')\n",
    "window3.to_csv('./data/installs/iv3.csv')\n",
    "window4.to_csv('./data/installs/iv4.csv')\n",
    "window5.to_csv('./data/installs/iv5.csv')\n",
    "window6.to_csv('./data/installs/iv6.csv')\n",
    "window7.to_csv('./data/installs/iv7.csv')"
   ]
  },
  {
   "cell_type": "code",
   "execution_count": null,
   "metadata": {},
   "outputs": [],
   "source": []
  }
 ],
 "metadata": {
  "kernelspec": {
   "display_name": "Python 3",
   "language": "python",
   "name": "python3"
  },
  "language_info": {
   "codemirror_mode": {
    "name": "ipython",
    "version": 3
   },
   "file_extension": ".py",
   "mimetype": "text/x-python",
   "name": "python",
   "nbconvert_exporter": "python",
   "pygments_lexer": "ipython3",
   "version": "3.5.3"
  }
 },
 "nbformat": 4,
 "nbformat_minor": 2
}
