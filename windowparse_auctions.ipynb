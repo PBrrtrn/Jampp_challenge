{
 "cells": [
  {
   "cell_type": "code",
   "execution_count": 1,
   "metadata": {},
   "outputs": [
    {
     "data": {
      "text/plain": [
       "pyspark.context.SparkContext"
      ]
     },
     "execution_count": 1,
     "metadata": {},
     "output_type": "execute_result"
    }
   ],
   "source": [
    "import pandas as pd\n",
    "import pyspark\n",
    "from datetime import datetime\n",
    "from window_generator import generate_windows_sc as wg\n",
    "from datetime import timedelta\n",
    "\n",
    "try: \n",
    "    type(sc)\n",
    "except NameError:\n",
    "    sc = pyspark.SparkContext('local[*]')    \n",
    "    \n",
    "type(sc)"
   ]
  },
  {
   "cell_type": "code",
   "execution_count": 2,
   "metadata": {},
   "outputs": [
    {
     "data": {
      "text/plain": [
       "[['2019-04-23 18:58:00.842116', '2564673204772915246', '1', '0'],\n",
       " ['2019-04-23 18:58:01.530771', '4441121667607578179', '7', '0'],\n",
       " ['2019-04-23 18:58:01.767562', '7721769811471055264', '1', '0'],\n",
       " ['2019-04-23 18:58:02.363468', '6416039086842158968', '1', '0'],\n",
       " ['2019-04-23 18:58:02.397559', '1258642015983312729', '1', '0']]"
      ]
     },
     "execution_count": 2,
     "metadata": {},
     "output_type": "execute_result"
    }
   ],
   "source": [
    "auctionsRDD = sc.textFile(\"./data/auctions.csv\", 8).map(lambda line: line.split(\",\")).filter(lambda x: x[0] != 'date')\n",
    "auctionsRDD.take(5)"
   ]
  },
  {
   "cell_type": "code",
   "execution_count": 3,
   "metadata": {},
   "outputs": [],
   "source": [
    "auctions = auctionsRDD.map(lambda x: (x[1], pd.to_datetime(x[0]) ) ) \n",
    "#device_id, date"
   ]
  },
  {
   "cell_type": "code",
   "execution_count": 4,
   "metadata": {},
   "outputs": [],
   "source": [
    "window1, window2, window3, window4, window5, window6, window7 = wg(auctions)"
   ]
  },
  {
   "cell_type": "code",
   "execution_count": 5,
   "metadata": {},
   "outputs": [],
   "source": [
    "window1 = window1.reduceByKey(lambda x,y: min(x,y))\n",
    "window2 = window2.reduceByKey(lambda x,y: min(x,y))\n",
    "window3 = window3.reduceByKey(lambda x,y: min(x,y))\n",
    "window4 = window4.reduceByKey(lambda x,y: min(x,y))\n",
    "window5 = window5.reduceByKey(lambda x,y: min(x,y))\n",
    "window6 = window6.reduceByKey(lambda x,y: min(x,y))\n",
    "window7 = window7.reduceByKey(lambda x,y: min(x,y))"
   ]
  },
  {
   "cell_type": "code",
   "execution_count": 6,
   "metadata": {},
   "outputs": [
    {
     "data": {
      "text/plain": [
       "[('1775327097246149922', 8357.932903),\n",
       " ('6209341105994526611', 17401.462635),\n",
       " ('3007879526340590519', 11142.718479),\n",
       " ('4244907993260948496', 68164.578006),\n",
       " ('5881241422551377863', 22555.322438),\n",
       " ('6671154453476588515', 171905.094635),\n",
       " ('7629923463948763367', 249569.5034),\n",
       " ('4352282730343079347', 6709.182927),\n",
       " ('5988944724362867569', 8584.337953),\n",
       " ('4531465131835661106', 189833.244538)]"
      ]
     },
     "execution_count": 6,
     "metadata": {},
     "output_type": "execute_result"
    }
   ],
   "source": [
    "INITIAL_DATE = pd.to_datetime('2019-04-20 00:00:00.00')\n",
    "INITIAL_DATE_V2 = pd.to_datetime(INITIAL_DATE + timedelta(days=1))\n",
    "INITIAL_DATE_V3 = pd.to_datetime(INITIAL_DATE + timedelta(days=2))\n",
    "INITIAL_DATE_V4 = pd.to_datetime(INITIAL_DATE + timedelta(days=3))\n",
    "INITIAL_DATE_V5 = pd.to_datetime(INITIAL_DATE + timedelta(days=4))\n",
    "INITIAL_DATE_V6 = pd.to_datetime(INITIAL_DATE + timedelta(days=5))\n",
    "INITIAL_DATE_V7 = pd.to_datetime(INITIAL_DATE + timedelta(days=6))\n",
    "\n",
    "window1 = window1.map(lambda x: (x[0], (x[1] - INITIAL_DATE).total_seconds() ) )\n",
    "window2 = window2.map(lambda x: (x[0], (x[1] - INITIAL_DATE_V2).total_seconds() ) )\n",
    "window3 = window3.map(lambda x: (x[0], (x[1] - INITIAL_DATE_V3).total_seconds() ) )\n",
    "window4 = window4.map(lambda x: (x[0], (x[1] - INITIAL_DATE_V4).total_seconds() ) )\n",
    "window5 = window5.map(lambda x: (x[0], (x[1] - INITIAL_DATE_V5).total_seconds() ) )\n",
    "window6 = window6.map(lambda x: (x[0], (x[1] - INITIAL_DATE_V6).total_seconds() ) )\n",
    "window7 = window7.map(lambda x: (x[0], (x[1] - INITIAL_DATE_V7).total_seconds() ) )\n",
    "\n",
    "window1.take(10)"
   ]
  },
  {
   "cell_type": "code",
   "execution_count": 7,
   "metadata": {},
   "outputs": [],
   "source": [
    "def toCSVLine(data):\n",
    "  return (','.join(str(d) for d in data))\n",
    "\n",
    "lines = window1.map(toCSVLine)\n",
    "lines.saveAsTextFile('./data/auctions/av1.csv')"
   ]
  },
  {
   "cell_type": "code",
   "execution_count": 8,
   "metadata": {},
   "outputs": [],
   "source": [
    "lines2 = window2.map(toCSVLine)\n",
    "lines2.saveAsTextFile('./data/auctions/aw2')\n",
    "\n",
    "lines3 = window3.map(toCSVLine)\n",
    "lines3.saveAsTextFile('./data/auctions/aw3')\n",
    "\n",
    "lines4 = window4.map(toCSVLine)\n",
    "lines4.saveAsTextFile('./data/auctions/aw4')\n",
    "\n",
    "lines5 = window5.map(toCSVLine)\n",
    "lines5.saveAsTextFile('./data/auctions/aw5')\n",
    "\n",
    "lines6 = window6.map(toCSVLine)\n",
    "lines6.saveAsTextFile('./data/auctions/aw6')\n",
    "\n",
    "lines7 = window7.map(toCSVLine)\n",
    "lines7.saveAsTextFile('./data/auctions/aw7')"
   ]
  },
  {
   "cell_type": "code",
   "execution_count": null,
   "metadata": {},
   "outputs": [],
   "source": []
  }
 ],
 "metadata": {
  "kernelspec": {
   "display_name": "Python 3",
   "language": "python",
   "name": "python3"
  },
  "language_info": {
   "codemirror_mode": {
    "name": "ipython",
    "version": 3
   },
   "file_extension": ".py",
   "mimetype": "text/x-python",
   "name": "python",
   "nbconvert_exporter": "python",
   "pygments_lexer": "ipython3",
   "version": "3.5.3"
  }
 },
 "nbformat": 4,
 "nbformat_minor": 2
}
