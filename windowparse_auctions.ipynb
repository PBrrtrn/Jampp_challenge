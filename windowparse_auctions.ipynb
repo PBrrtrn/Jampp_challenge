{
 "cells": [
  {
   "cell_type": "code",
   "execution_count": 1,
   "metadata": {},
   "outputs": [
    {
     "data": {
      "text/plain": [
       "pyspark.context.SparkContext"
      ]
     },
     "execution_count": 1,
     "metadata": {},
     "output_type": "execute_result"
    }
   ],
   "source": [
    "import pandas as pd\n",
    "import pyspark\n",
    "from datetime import datetime\n",
    "from window_generator import generate_windows_sc as wg\n",
    "from datetime import timedelta\n",
    "\n",
    "try: \n",
    "    type(sc)\n",
    "except NameError:\n",
    "    sc = pyspark.SparkContext('local[*]')    \n",
    "    \n",
    "type(sc)"
   ]
  },
  {
   "cell_type": "code",
   "execution_count": 2,
   "metadata": {},
   "outputs": [
    {
     "data": {
      "text/plain": [
       "[['2019-04-23 18:58:00.842116', '2564673204772915246', '1', '0'],\n",
       " ['2019-04-23 18:58:01.530771', '4441121667607578179', '7', '0'],\n",
       " ['2019-04-23 18:58:01.767562', '7721769811471055264', '1', '0'],\n",
       " ['2019-04-23 18:58:02.363468', '6416039086842158968', '1', '0'],\n",
       " ['2019-04-23 18:58:02.397559', '1258642015983312729', '1', '0']]"
      ]
     },
     "execution_count": 2,
     "metadata": {},
     "output_type": "execute_result"
    }
   ],
   "source": [
    "auctionsRDD = sc.textFile(\"./data/auctions.csv\", 8).map(lambda line: line.split(\",\")).filter(lambda x: x[0] != 'date')\n",
    "auctionsRDD.take(5)"
   ]
  },
  {
   "cell_type": "code",
   "execution_count": 3,
   "metadata": {},
   "outputs": [],
   "source": [
    "auctions = auctionsRDD.map(lambda x: (x[1], pd.to_datetime(x[0]) ) ) \n",
    "#device_id, date"
   ]
  },
  {
   "cell_type": "code",
   "execution_count": null,
   "metadata": {},
   "outputs": [],
   "source": [
    "window1, window2, window3, window4, window5, window6, window7 = wg(auctions)"
   ]
  },
  {
   "cell_type": "code",
   "execution_count": null,
   "metadata": {},
   "outputs": [],
   "source": [
    "window1 = window1.reduceByKey(lambda x,y: min(x,y))\n",
    "window2 = window2.reduceByKey(lambda x,y: min(x,y))\n",
    "window3 = window3.reduceByKey(lambda x,y: min(x,y))\n",
    "window4 = window4.reduceByKey(lambda x,y: min(x,y))\n",
    "window5 = window5.reduceByKey(lambda x,y: min(x,y))\n",
    "window6 = window6.reduceByKey(lambda x,y: min(x,y))\n",
    "window7 = window7.reduceByKey(lambda x,y: min(x,y))"
   ]
  },
  {
   "cell_type": "code",
   "execution_count": null,
   "metadata": {},
   "outputs": [],
   "source": [
    "INITIAL_DATE = pd.to_datetime('2019-04-20 00:00:00.00')\n",
    "INITIAL_DATE_V2 = pd.to_datetime(INITIAL_DATE + timedelta(days=1))\n",
    "INITIAL_DATE_V3 = pd.to_datetime(INITIAL_DATE + timedelta(days=2))\n",
    "INITIAL_DATE_V4 = pd.to_datetime(INITIAL_DATE + timedelta(days=3))\n",
    "INITIAL_DATE_V5 = pd.to_datetime(INITIAL_DATE + timedelta(days=4))\n",
    "INITIAL_DATE_V6 = pd.to_datetime(INITIAL_DATE + timedelta(days=5))\n",
    "INITIAL_DATE_V7 = pd.to_datetime(INITIAL_DATE + timedelta(days=6))\n",
    "\n",
    "window1 = window1.map(lambda x: (str(x[0])+'_st', (x[1] - INITIAL_DATE).total_seconds() ) )\n",
    "window2 = window2.map(lambda x: (str(x[0])+'_st', (x[1] - INITIAL_DATE_V2).total_seconds() ) )\n",
    "window3 = window3.map(lambda x: (str(x[0])+'_st', (x[1] - INITIAL_DATE_V3).total_seconds() ) )\n",
    "window4 = window4.map(lambda x: (str(x[0])+'_st', (x[1] - INITIAL_DATE_V4).total_seconds() ) )\n",
    "window5 = window5.map(lambda x: (str(x[0])+'_st', (x[1] - INITIAL_DATE_V5).total_seconds() ) )\n",
    "window6 = window6.map(lambda x: (str(x[0])+'_st', (x[1] - INITIAL_DATE_V6).total_seconds() ) )\n",
    "window7 = window7.map(lambda x: (str(x[0])+'_st', (x[1] - INITIAL_DATE_V7).total_seconds() ) )\n",
    "\n",
    "window1.take(10)"
   ]
  },
  {
   "cell_type": "code",
   "execution_count": null,
   "metadata": {},
   "outputs": [],
   "source": [
    "av1 = sc.createDataFrame(ventana1).toDF('ref_hash','t_first')\n",
    "av1.to_csv('./data/auctions/av1')\n",
    "\n"
   ]
  },
  {
   "cell_type": "code",
   "execution_count": null,
   "metadata": {},
   "outputs": [],
   "source": []
  }
 ],
 "metadata": {
  "kernelspec": {
   "display_name": "Python 3",
   "language": "python",
   "name": "python3"
  },
  "language_info": {
   "codemirror_mode": {
    "name": "ipython",
    "version": 3
   },
   "file_extension": ".py",
   "mimetype": "text/x-python",
   "name": "python",
   "nbconvert_exporter": "python",
   "pygments_lexer": "ipython3",
   "version": "3.5.3"
  }
 },
 "nbformat": 4,
 "nbformat_minor": 2
}
