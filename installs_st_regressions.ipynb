{
 "cells": [
  {
   "cell_type": "markdown",
   "metadata": {},
   "source": [
    "# An XGBoost regressor will be trained\n",
    "\n",
    "## In order to do this, the installs register parsed into windows, as well as all features, will be used"
   ]
  },
  {
   "cell_type": "code",
   "execution_count": 15,
   "metadata": {},
   "outputs": [],
   "source": [
    "import pandas as pd\n",
    "import xgboost as xgb\n",
    "from data_extractors import extract_data # module handles separating data from targets\n",
    "from data_extractors import extract_goals\n",
    "from sklearn.metrics import explained_variance_score\n",
    "\n",
    "installs_training_set_w1 = pd.read_csv('./data/installs/iw1.csv')\n",
    "installs_training_set_w2 = pd.read_csv('./data/installs/iw2.csv')\n",
    "installs_training_set_w3 = pd.read_csv('./data/installs/iw3.csv')\n",
    "installs_training_set_w4 = pd.read_csv('./data/installs/iw4.csv')\n",
    "installs_training_set_w5 = pd.read_csv('./data/installs/iw5.csv')\n",
    "installs_training_set_w6 = pd.read_csv('./data/installs/iw6.csv')\n",
    "installs_training_set_w7 = pd.read_csv('./data/installs/iw7.csv')"
   ]
  },
  {
   "cell_type": "code",
   "execution_count": 16,
   "metadata": {},
   "outputs": [
    {
     "data": {
      "text/html": [
       "<div>\n",
       "<style scoped>\n",
       "    .dataframe tbody tr th:only-of-type {\n",
       "        vertical-align: middle;\n",
       "    }\n",
       "\n",
       "    .dataframe tbody tr th {\n",
       "        vertical-align: top;\n",
       "    }\n",
       "\n",
       "    .dataframe thead th {\n",
       "        text-align: right;\n",
       "    }\n",
       "</style>\n",
       "<table border=\"1\" class=\"dataframe\">\n",
       "  <thead>\n",
       "    <tr style=\"text-align: right;\">\n",
       "      <th></th>\n",
       "      <th>ref_hash</th>\n",
       "      <th>t_first</th>\n",
       "    </tr>\n",
       "  </thead>\n",
       "  <tbody>\n",
       "    <tr>\n",
       "      <th>0</th>\n",
       "      <td>41863526108385</td>\n",
       "      <td>76310.326</td>\n",
       "    </tr>\n",
       "    <tr>\n",
       "      <th>1</th>\n",
       "      <td>135153013040192</td>\n",
       "      <td>192980.258</td>\n",
       "    </tr>\n",
       "    <tr>\n",
       "      <th>2</th>\n",
       "      <td>186034136943920</td>\n",
       "      <td>60042.839</td>\n",
       "    </tr>\n",
       "    <tr>\n",
       "      <th>3</th>\n",
       "      <td>365882020742330</td>\n",
       "      <td>96156.508</td>\n",
       "    </tr>\n",
       "    <tr>\n",
       "      <th>4</th>\n",
       "      <td>519199987760489</td>\n",
       "      <td>92860.475</td>\n",
       "    </tr>\n",
       "  </tbody>\n",
       "</table>\n",
       "</div>"
      ],
      "text/plain": [
       "          ref_hash     t_first\n",
       "0   41863526108385   76310.326\n",
       "1  135153013040192  192980.258\n",
       "2  186034136943920   60042.839\n",
       "3  365882020742330   96156.508\n",
       "4  519199987760489   92860.475"
      ]
     },
     "execution_count": 16,
     "metadata": {},
     "output_type": "execute_result"
    }
   ],
   "source": [
    "installs_training_set_w1.drop(columns=['Unnamed: 0'], inplace=True)\n",
    "installs_training_set_w2.drop(columns=['Unnamed: 0'], inplace=True)\n",
    "installs_training_set_w3.drop(columns=['Unnamed: 0'], inplace=True)\n",
    "installs_training_set_w4.drop(columns=['Unnamed: 0'], inplace=True)\n",
    "installs_training_set_w5.drop(columns=['Unnamed: 0'], inplace=True)\n",
    "installs_training_set_w6.drop(columns=['Unnamed: 0'], inplace=True)\n",
    "installs_training_set_w7.drop(columns=['Unnamed: 0'], inplace=True)\n",
    "\n",
    "\n",
    "installs_training_set_w1.head()"
   ]
  },
  {
   "cell_type": "code",
   "execution_count": 17,
   "metadata": {},
   "outputs": [],
   "source": [
    "# Add features\n",
    "installs_features_w1 = pd.read_csv('./data/features/install_features/iw1.csv')\n",
    "installs_features_w2 = pd.read_csv('./data/features/install_features/iw2.csv')\n",
    "installs_features_w3 = pd.read_csv('./data/features/install_features/iw3.csv')\n",
    "installs_features_w4 = pd.read_csv('./data/features/install_features/iw4.csv')\n",
    "installs_features_w5 = pd.read_csv('./data/features/install_features/iw5.csv')\n",
    "installs_features_w6 = pd.read_csv('./data/features/install_features/iw6.csv')\n",
    "installs_features_w7 = pd.read_csv('./data/features/install_features/iw7.csv')"
   ]
  },
  {
   "cell_type": "markdown",
   "metadata": {},
   "source": [
    "# Now we can begin to train\n",
    "\n",
    "## In order to train a regressor, we will use each window's (x,y) pair. XGBoost allows for successive fits, which makes this possible and very efficient."
   ]
  },
  {
   "cell_type": "code",
   "execution_count": 18,
   "metadata": {},
   "outputs": [],
   "source": [
    "x_w1, x_w2, x_w3, x_w4, x_w5, x_w6, x_w7 = extract_data(installs_training_set_w1, installs_training_set_w2,\n",
    "                                                        installs_training_set_w3, installs_training_set_w4,\n",
    "                                                        installs_training_set_w5, installs_training_set_w6,\n",
    "                                                        installs_training_set_w7, 't_first')\n",
    "y_w1, y_w2, y_w3, y_w4, y_w5, y_w6, y_w7 = extract_goals(installs_training_set_w1, installs_training_set_w2,\n",
    "                                                        installs_training_set_w3, installs_training_set_w4,\n",
    "                                                        installs_training_set_w5, installs_training_set_w6,\n",
    "                                                        installs_training_set_w7,'t_first')"
   ]
  },
  {
   "cell_type": "code",
   "execution_count": 19,
   "metadata": {},
   "outputs": [
    {
     "data": {
      "text/plain": [
       "XGBRegressor(base_score=0.5, booster='gbtree', colsample_bylevel=1,\n",
       "             colsample_bynode=1, colsample_bytree=1, gamma=0,\n",
       "             importance_type='gain', learning_rate=0.08, max_delta_step=0,\n",
       "             max_depth=7, min_child_weight=1, missing=None, n_estimators=100,\n",
       "             n_jobs=1, nthread=None, objective='reg:squarederror',\n",
       "             random_state=0, reg_alpha=0, reg_lambda=1, scale_pos_weight=1,\n",
       "             seed=None, silent=None, subsample=0.75, verbosity=1)"
      ]
     },
     "execution_count": 19,
     "metadata": {},
     "output_type": "execute_result"
    }
   ],
   "source": [
    "regressor = xgb.XGBRegressor(n_estimators=100, learning_rate=0.08, gamma=0, subsample=0.75,\n",
    "                           colsample_bytree=1, max_depth=7, objective='reg:squarederror')\n",
    "\n",
    "regressor.fit(x_w1,y_w1)"
   ]
  }
 ],
 "metadata": {
  "kernelspec": {
   "display_name": "Python 3",
   "language": "python",
   "name": "python3"
  },
  "language_info": {
   "codemirror_mode": {
    "name": "ipython",
    "version": 3
   },
   "file_extension": ".py",
   "mimetype": "text/x-python",
   "name": "python",
   "nbconvert_exporter": "python",
   "pygments_lexer": "ipython3",
   "version": "3.5.3"
  }
 },
 "nbformat": 4,
 "nbformat_minor": 2
}
