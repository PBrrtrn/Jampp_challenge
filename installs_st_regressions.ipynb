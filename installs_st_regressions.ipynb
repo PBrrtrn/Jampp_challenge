{
 "cells": [
  {
   "cell_type": "markdown",
   "metadata": {},
   "source": [
    "# An XGBoost regressor will be trained\n",
    "\n",
    "## In order to do this, the installs register parsed into windows, as well as all features, will be used"
   ]
  },
  {
   "cell_type": "code",
   "execution_count": 1,
   "metadata": {},
   "outputs": [],
   "source": [
    "import pandas as pd\n",
    "import xgboost as xgb\n",
    "import data_extractors as de\n",
    "from sklearn.metrics import explained_variance_score\n",
    "\n",
    "installs_training_set_w1 = pd.read_csv('./data/installs/iv1.csv')\n",
    "installs_training_set_w2 = pd.read_csv('./data/installs/iv2.csv')\n",
    "installs_training_set_w3 = pd.read_csv('./data/installs/iv3.csv')\n",
    "installs_training_set_w4 = pd.read_csv('./data/installs/iv4.csv')\n",
    "installs_training_set_w5 = pd.read_csv('./data/installs/iv5.csv')\n",
    "installs_training_set_w6 = pd.read_csv('./data/installs/iv6.csv')\n",
    "installs_training_set_w7 = pd.read_csv('./data/installs/iv7.csv')"
   ]
  },
  {
   "cell_type": "code",
   "execution_count": null,
   "metadata": {},
   "outputs": [],
   "source": [
    "# Add features"
   ]
  },
  {
   "cell_type": "markdown",
   "metadata": {},
   "source": [
    "# Now we can begin to train\n",
    "\n",
    "## In order to train a regressor, we will use each window's (x,y) pair. XGBoost allows for successive fits, which makes this possible and very efficient."
   ]
  },
  {
   "cell_type": "code",
   "execution_count": null,
   "metadata": {},
   "outputs": [],
   "source": [
    "x_w1, x_w2, x_w3, x_w4, x_w5, x_w6, x_w7 = de.extract_data(installs_training_set_w1, installs_training_set_w2,\n",
    "                                                        installs_training_set_w3, installs_training_set_w4,\n",
    "                                                        installs_training_set_w5, installs_training_set_w6,\n",
    "                                                        installs_training_set_w7)\n",
    "y_w1, y_w2, y_w3, y_w4, y_w5, y_w6, y_w7 = de.extract_goals(installs_training_set_w1, installs_training_set_w2,\n",
    "                                                        installs_training_set_w3, installs_training_set_w4,\n",
    "                                                        installs_training_set_w5, installs_training_set_w6,\n",
    "                                                        installs_training_set_w7)"
   ]
  },
  {
   "cell_type": "code",
   "execution_count": null,
   "metadata": {},
   "outputs": [],
   "source": [
    "regressor = xgb.XGBRegressor(n_estimators=100, learning_rate=0.08, gamma=0, subsample=0.75,\n",
    "                           colsample_bytree=1, max_depth=7, objective='reg:squarederror')\n",
    "\n",
    "regressor.fit(x_w1,y_w1)"
   ]
  }
 ],
 "metadata": {
  "kernelspec": {
   "display_name": "Python 3",
   "language": "python",
   "name": "python3"
  },
  "language_info": {
   "codemirror_mode": {
    "name": "ipython",
    "version": 3
   },
   "file_extension": ".py",
   "mimetype": "text/x-python",
   "name": "python",
   "nbconvert_exporter": "python",
   "pygments_lexer": "ipython3",
   "version": "3.5.3"
  }
 },
 "nbformat": 4,
 "nbformat_minor": 2
}
